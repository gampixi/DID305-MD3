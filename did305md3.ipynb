{
 "cells": [
  {
   "cell_type": "code",
   "execution_count": 5,
   "metadata": {
    "collapsed": true
   },
   "outputs": [
    {
     "name": "stdout",
     "output_type": "stream",
     "text": [
      "1\n"
     ]
    }
   ],
   "source": [
    "import math\n",
    "from matplotlib import pyplot as plt\n",
    "import numpy as np\n",
    "import random\n",
    "import pickle\n",
    "from sklearn.preprocessing import normalize\n",
    "\n",
    "class SOM:\n",
    "    def __init__(self, size, input_dimensions):\n",
    "        self.size = size\n",
    "        self.input_dimensions = input_dimensions\n",
    "        self.nodes = np.array([[Node(self.input_dimensions) for i in range(size)] for j in range(size)])\n",
    "        \n",
    "    def fit(self, data, epochs, learning_rate = 0.1, results_name = 'all_epochs.pickle'):\n",
    "        initial_radius = self.size/2\n",
    "        radius = initial_radius\n",
    "\n",
    "        epochs_data = []\n",
    "        for epoch in range(epochs):\n",
    "            if epoch % 50 == 0:\n",
    "                print(\"Processing {}/{}\".format(epoch, epochs))\n",
    "            vector = data[random.randrange(0, len(data))]\n",
    "            bmu_index = self.find_bmu_index(vector)\n",
    "\n",
    "            epoch_data = [[None for j in range(self.size)] for i in range (self.size)]\n",
    "            for row_index, row in enumerate(self.nodes):\n",
    "                for column_index, node in enumerate(row):\n",
    "                    epoch_data[row_index][column_index] = node.get_weights().copy()\n",
    "                    distance = math.hypot(bmu_index[\"row\"] - row_index, bmu_index[\"column\"] - column_index)\n",
    "                    if distance <= radius:\n",
    "                        influence = math.exp(-distance**2/(0.35*(radius**2)))\n",
    "                        node.adjust_weights(vector, influence, learning_rate)\n",
    "            if epoch % 5 == 0 or epoch == epochs-1:\n",
    "                epochs_data.append(epoch_data)\n",
    "            # radius = initial_radius\n",
    "            # radius = initial_radius * math.exp(-epoch/(epochs/math.log(initial_radius)))\n",
    "            radius = initial_radius * math.exp(-epoch/((2*epochs)/math.log(initial_radius)))\n",
    "\n",
    "        with open(results_name, 'wb') as dump_file:\n",
    "            pickle.dump(epochs_data, dump_file)\n",
    "\n",
    "\n",
    "    def find_bmu_index(self, vector):\n",
    "        bmu_index = {\"row\": 0, \"column\": 0}\n",
    "        smallest_distance = self.input_dimensions # For normalised data max distance for an element is 1\n",
    "        for row_index, row in enumerate(self.nodes):\n",
    "            for column_index, node in enumerate(row):\n",
    "                distance = node.get_euclidean_distance(vector)\n",
    "                if distance < smallest_distance:\n",
    "                    smallest_distance = distance\n",
    "                    bmu_index = {\"row\": row_index, \"column\": column_index}\n",
    "        return bmu_index\n",
    "    \n",
    "    def display_weights(self):\n",
    "        w, h = self.size, self.size\n",
    "        data = np.zeros((h, w, 3), dtype=np.uint8)\n",
    "        for row_index, row in enumerate(self.nodes):\n",
    "            for column_index, node in enumerate(row):\n",
    "                data[row_index, column_index] = node.get_weights()*255\n",
    "        plt.imshow(data, interpolation='nearest')\n",
    "        plt.show()\n",
    "        \n",
    "class Node:\n",
    "    def __init__(self, input_dimensions):\n",
    "        self.weights = np.random.rand(input_dimensions)\n",
    "        \n",
    "    def get_euclidean_distance(self, vector):\n",
    "        return np.linalg.norm(self.weights - vector)\n",
    "    \n",
    "    def adjust_weights(self, vector, influence, learning_rate):\n",
    "        for i in range(len(self.weights)):\n",
    "            self.weights[i] += (vector[i] - self.weights[i]) * influence * learning_rate\n",
    "            \n",
    "    def get_weights(self):\n",
    "        return self.weights\n",
    "    \n",
    "print(1)"
   ]
  },
  {
   "cell_type": "code",
   "execution_count": 6,
   "outputs": [
    {
     "name": "stdout",
     "output_type": "stream",
     "text": [
      "Processing 0/2000\n",
      "Processing 50/2000\n",
      "Processing 100/2000\n",
      "Processing 150/2000\n",
      "Processing 200/2000\n",
      "Processing 250/2000\n",
      "Processing 300/2000\n",
      "Processing 350/2000\n",
      "Processing 400/2000\n",
      "Processing 450/2000\n",
      "Processing 500/2000\n",
      "Processing 550/2000\n",
      "Processing 600/2000\n",
      "Processing 650/2000\n",
      "Processing 700/2000\n",
      "Processing 750/2000\n",
      "Processing 800/2000\n",
      "Processing 850/2000\n",
      "Processing 900/2000\n",
      "Processing 950/2000\n",
      "Processing 1000/2000\n",
      "Processing 1050/2000\n",
      "Processing 1100/2000\n",
      "Processing 1150/2000\n",
      "Processing 1200/2000\n",
      "Processing 1250/2000\n",
      "Processing 1300/2000\n",
      "Processing 1350/2000\n",
      "Processing 1400/2000\n",
      "Processing 1450/2000\n",
      "Processing 1500/2000\n",
      "Processing 1550/2000\n",
      "Processing 1600/2000\n",
      "Processing 1650/2000\n",
      "Processing 1700/2000\n",
      "Processing 1750/2000\n",
      "Processing 1800/2000\n",
      "Processing 1850/2000\n",
      "Processing 1900/2000\n",
      "Processing 1950/2000\n",
      "1\n"
     ]
    },
    {
     "data": {
      "text/plain": "<Figure size 432x288 with 1 Axes>",
      "image/png": "[encoded data removed]"
     },
     "metadata": {
      "needs_background": "light"
     },
     "output_type": "display_data"
    }
   ],
   "source": [
    "rates = [0.1, 0.3, 0.5, 0.7, 0.9]\n",
    "sizes = [100, 50, 30, 10]\n",
    "\n",
    "with open('dataset.pickle', 'rb') as pickle_file:\n",
    "    content = pickle.load(pickle_file)\n",
    "    content = list(map(lambda p:(x:=p[0], y:=p[1], z:=p[2], (x/10, y/10, z/10))[-1], content))\n",
    "    som = SOM(100, 3)\n",
    "    som.fit(content, 2000, learning_rate=0.1)\n",
    "    som.display_weights()\n",
    "    \n",
    "print(1)"
   ],
   "metadata": {
    "collapsed": false,
    "pycharm": {
     "name": "#%%       \n"
    }
   }
  }
 ],
 "metadata": {
  "kernelspec": {
   "name": "python3",
   "language": "python",
   "display_name": "Python 3"
  },
  "language_info": {
   "codemirror_mode": {
    "name": "ipython",
    "version": 2
   },
   "file_extension": ".py",
   "mimetype": "text/x-python",
   "name": "python",
   "nbconvert_exporter": "python",
   "pygments_lexer": "ipython2",
   "version": "2.7.6"
  }
 },
 "nbformat": 4,
 "nbformat_minor": 0
}