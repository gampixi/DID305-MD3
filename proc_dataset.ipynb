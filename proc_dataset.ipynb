{
 "cells": [
  {
   "cell_type": "code",
   "execution_count": 9,
   "metadata": {
    "collapsed": true
   },
   "outputs": [
    {
     "name": "stdout",
     "output_type": "stream",
     "text": [
      "Invalid data @ 3: ['061RDB093', '0', '0', 'FALSE', '', '', '', '0', '', '-']\n",
      "Invalid data @ 6: ['171RDB230', '0', '2', 'FALSE', '', '', '', '0', '', '-']\n",
      "Invalid data @ 20: ['171RDB362', '0', '0', 'FALSE', '', '', '', '0', '', '-']\n",
      "Invalid data @ 21: ['181RDB114', '0', '0', 'FALSE', '', '', '', '0', '', '-']\n",
      "Invalid data @ 24: ['161RDB185', '0', '0', 'FALSE', '', '', '', '0', '', '-']\n",
      "Invalid data @ 26: ['181RDB097', '0', '0', 'FALSE', '', '', '', '0', '', '-']\n",
      "Invalid data @ 27: ['081RMC114', '6', '0', 'FALSE', '', '', '', '1,5', '', '-']\n",
      "Invalid data @ 32: ['181RDB325', '0', '0', 'FALSE', '', '', '', '0', '', '-']\n",
      "Invalid data @ 43: ['151RDB405', '3', '2', 'FALSE', '', '', '', '0', '', '-']\n",
      "Invalid data @ 52: ['181RDB319', '4', '0', 'FALSE', '', '', '', '1', '', '-']\n",
      "Invalid data @ 74: ['141RDB188', '0', '0', 'FALSE', '', '', '', '0', '', '-']\n",
      "Invalid data @ 77: ['181RDB087', '0', '0', 'FALSE', '', '', '', '0', '', '-']\n",
      "Invalid data @ 78: ['161RDB134', '0', '0', 'FALSE', '', '', '', '0', '', '-']\n",
      "Invalid data @ 79: ['181RDB126', '0', '0', 'FALSE', '', '', '', '0', '', '-']\n",
      "Invalid data @ 82: ['181RDB073', '0', '0', 'FALSE', '', '', '', '0', '', '-']\n",
      "Invalid data @ 85: ['181RDB157', '0', '0', 'FALSE', '', '', '', '0', '', '-']\n",
      "Invalid data @ 87: ['181RDB161', '0', '0', 'FALSE', '', '', '', '0', '', '-']\n",
      "Invalid data @ 89: ['151RDB435', '0', '0', 'FALSE', '', '', '', '0', '', '-']\n",
      "Invalid data @ 91: ['181RDB135', '0', '0', 'FALSE', '', '', '', '0', '', '-']\n",
      "Invalid data @ 98: ['161RDK009', '4', '2', 'FALSE', '', '', '', '1', '', '-']\n",
      "Invalid data @ 107: ['101RWC056', '0', '0', 'FALSE', '', '', '', '0', '', '-']\n",
      "Invalid data @ 112: ['171DDB002', '0', '0', 'FALSE', '', '', '', '0', '', '-']\n",
      "Invalid data @ 113: ['171RDB171', '0', '0', 'FALSE', '', '', '', '0', '', '-']\n",
      "Invalid data @ 114: ['141REB162', '0', '0', 'FALSE', '', '', '', '0', '', '-']\n",
      "Invalid data @ 116: ['181RDB312', '3', '0', 'FALSE', '', '', '', '0', '', '-']\n",
      "Invalid data @ 122: ['171DDB021', '0', '0', 'FALSE', '', '', '', '0', '', '-']\n",
      "Invalid data @ 123: ['181RDB141', '2', '0', 'FALSE', '', '', '', '0', '', '-']\n",
      "Invalid data @ 124: ['171RDB139', '0', '0', 'FALSE', '', '', '', '0', '', '-']\n",
      "Invalid data @ 126: ['181RDB034', '3', '0', 'FALSE', '', '', '', '0', '', '-']\n",
      "Invalid data @ 129: ['181RDB057', '3', '0', 'FALSE', '', '', '', '0', '', '-']\n",
      "Invalid data @ 134: ['181RDB032', '0', '0', 'FALSE', '', '', '', '0', '', '-']\n",
      "Invalid data @ 135: ['151RMC196', '0', '0', 'FALSE', '', '', '', '0', '', '-']\n",
      "Invalid data @ 136: ['171RDB175', '0', '0', 'FALSE', '', '', '', '0', '', '-']\n",
      "Invalid data @ 137: ['171DDB027', '3', '0', 'FALSE', '', '', '', '0', '', '-']\n",
      "Invalid data @ 140: ['171RDB141', '0', '0', 'FALSE', '', '', '', '0', '', '-']\n",
      "Invalid data @ 148: ['181RDB010', '0', '0', 'FALSE', '', '', '', '0', '', '-']\n",
      "Invalid data @ 153: ['181RDB195', '5', '0', 'FALSE', '', '', '', '1,25', '', '-']\n",
      "Invalid data @ 162: ['161RDB245', '0', '0', 'FALSE', '', '', '', '0', '', '-']\n",
      "Invalid data @ 163: ['161RDB213', '0', '0', 'FALSE', '', '', '', '0', '', '-']\n",
      "Invalid data @ 166: ['181RDB219', '4', '0', 'FALSE', '', '', '', '1', '', '-']\n",
      "Invalid data @ 168: ['161RDB215', '0', '0', 'FALSE', '', '', '', '0', '', '-']\n",
      "Invalid data @ 179: ['181RDB238', '0', '0', 'FALSE', '', '', '', '0', '', '-']\n",
      "Invalid data @ 188: ['171RDB090', '0', '0', 'FALSE', '', '', '', '0', '', '-']\n",
      "Invalid data @ 189: ['171RDB359', '6', '0', 'FALSE', '', '', '', '1,5', '', '-']\n",
      "Invalid data @ 190: ['181RDB296', '3', '3', 'FALSE', '', '', '', '0', '', '-']\n",
      "Invalid data @ 194: ['161REB185', '0', '0', 'FALSE', '', '', '', '0', '', '-']\n",
      "Invalid data @ 196: ['171RDB079', '0', '0', 'FALSE', '', '', '', '0', '', '-']\n",
      "Invalid data @ 198: ['171DDB011', '0', '0', 'FALSE', '', '', '', '0', '', '-']\n",
      "Invalid data @ 212: ['181RDB338', '3', '4', 'FALSE', '', '', '', '1', '', '-']\n",
      "Invalid data @ 221: ['181RDB275', '4', '2', 'FALSE', '', '', '', '1', '', '-']\n",
      "Invalid data @ 226: ['181RDK012', '0', '0', 'FALSE', '', '', '', '0', '', '-']\n",
      "Invalid data @ 235: ['041RDB201', '0', '3', 'FALSE', '', '', '', '0', '', '-']\n",
      "Invalid data @ 237: ['151RDB271', '0', '0', 'FALSE', '', '', '', '0', '', '-']\n",
      "Invalid data @ 240: ['181RDB306', '0', '0', 'FALSE', '', '', '', '0', '', '-']\n",
      "Invalid data @ 244: ['181RDB278', '3', '0', 'FALSE', '', '', '', '0', '', '-']\n",
      "Invalid data @ 253: ['181RDB196', '3', '0', 'FALSE', '', '', '', '0', '', '-']\n",
      "Invalid data @ 266: ['181RDB223', '0', '0', 'FALSE', '', '', '', '0', '', '-']\n",
      "Invalid data @ 273: ['181RDB202', '6', '0', 'FALSE', '', '', '', '1,5', '', '-']\n",
      "Invalid data @ 274: ['181RDB246', '3', '2', 'FALSE', '', '', '', '0', '', '-']\n",
      "Invalid data @ 278: ['171RDB278', '0', '0', 'FALSE', '', '', '', '0', '', '-']\n",
      "Invalid data @ 279: ['08LPVT097', '0', '0', 'FALSE', '', '', '', '0', '', '-']\n",
      "Invalid data @ 283: ['181RDB171', '4', '3', 'FALSE', '', '', '', '1', '', '-']\n",
      "Invalid data @ 290: ['171RDB280', '3', '5', 'FALSE', '', '', '', '1,25', '', '-']\n",
      "Invalid data @ 293: [' 171RMC281', '0', '0', 'FALSE', '', '', '', '0', '', '-']\n",
      "Invalid data @ 305: [' 171RDB173', '3', '2', 'FALSE', '', '', '', '0', '', '-']\n",
      "Invalid data @ 306: [' 151RDB320', '0', '0', 'FALSE', '', '', '', '0', '', '-']\n",
      "Invalid data @ 309: [' 171RDB353', '3', '0', 'FALSE', '', '', '', '0', '', '-']\n",
      "Invalid data @ 312: ['111REB543', '0', '0', 'FALSE', '', '', '', '0', '', '-']\n",
      "Invalid data @ 313: ['131REB217', '0', '0', 'FALSE', '', '', '', '0', '', '-']\n",
      "Invalid data @ 314: ['161RDB311', '0', '0', 'FALSE', '', '', '', '0', '', '-']\n"
     ]
    }
   ],
   "source": [
    "# Izveidot sarakstu ar derīgiem ierakstiem\n",
    "\n",
    "import csv\n",
    "import io\n",
    "import pickle\n",
    "\n",
    "file_name = \"varbutibu_teorija.csv\"\n",
    "clean_dataset = []\n",
    "\n",
    "with open(file_name, mode=\"r\") as csv_file:\n",
    "    csv_data = csv.reader(csv_file, delimiter=\";\")\n",
    "    for idx, row in enumerate(csv_data):\n",
    "        if idx == 0:\n",
    "            continue\n",
    "        columns = []\n",
    "        try:\n",
    "            columns.append(int(row[1]))\n",
    "            columns.append(int(row[2]))\n",
    "            try:\n",
    "                columns.append(int(row[6]))\n",
    "            except:\n",
    "                # Nebija eksāmena atzīmes, ņemam bonusu, ja bija\n",
    "                try:\n",
    "                    columns.append(int(row[4]))\n",
    "                except:\n",
    "                    print(\"Invalid data @ {}: {}\".format(idx, row))\n",
    "                    continue\n",
    "        except:\n",
    "            print(\"Invalid data @ {}: {}\".format(idx, row))\n",
    "            continue\n",
    "\n",
    "        clean_dataset.append(columns)"
   ]
  },
  {
   "cell_type": "code",
   "execution_count": 10,
   "outputs": [],
   "source": [
    "# Saglabāt datus marinētā gurķītī\n",
    "\n",
    "pickle.dump(clean_dataset, open(\"dataset.pickle\", \"wb\"))"
   ],
   "metadata": {
    "collapsed": false,
    "pycharm": {
     "name": "#%%\n"
    }
   }
  }
 ],
 "metadata": {
  "kernelspec": {
   "display_name": "Python 3",
   "language": "python",
   "name": "python3"
  },
  "language_info": {
   "codemirror_mode": {
    "name": "ipython",
    "version": 2
   },
   "file_extension": ".py",
   "mimetype": "text/x-python",
   "name": "python",
   "nbconvert_exporter": "python",
   "pygments_lexer": "ipython2",
   "version": "2.7.6"
  }
 },
 "nbformat": 4,
 "nbformat_minor": 0
}