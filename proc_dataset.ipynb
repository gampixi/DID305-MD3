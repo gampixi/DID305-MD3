{
 "cells": [
  {
   "cell_type": "code",
   "execution_count": 11,
   "metadata": {
    "collapsed": true
   },
   "outputs": [
    {
     "name": "stdout",
     "output_type": "stream",
     "text": [
      "Nebija ne eksāmena, ne bonusa\n",
      "Nebija ne eksāmena, ne bonusa\n",
      "Nebija ne eksāmena, ne bonusa\n",
      "Nebija ne eksāmena, ne bonusa\n",
      "Nebija ne eksāmena, ne bonusa\n",
      "Nebija ne eksāmena, ne bonusa\n",
      "Nebija ne eksāmena, ne bonusa\n",
      "Nebija ne eksāmena, ne bonusa\n",
      "Nebija ne eksāmena, ne bonusa\n",
      "Nebija ne eksāmena, ne bonusa\n",
      "Nebija ne eksāmena, ne bonusa\n",
      "Nebija ne eksāmena, ne bonusa\n",
      "Nebija ne eksāmena, ne bonusa\n",
      "Nebija ne eksāmena, ne bonusa\n",
      "Nebija ne eksāmena, ne bonusa\n",
      "Nebija ne eksāmena, ne bonusa\n",
      "Nebija ne eksāmena, ne bonusa\n",
      "Nebija ne eksāmena, ne bonusa\n",
      "Nebija ne eksāmena, ne bonusa\n",
      "Nebija ne eksāmena, ne bonusa\n",
      "Nebija ne eksāmena, ne bonusa\n",
      "Nebija ne eksāmena, ne bonusa\n",
      "Nebija ne eksāmena, ne bonusa\n",
      "Nebija ne eksāmena, ne bonusa\n",
      "Nebija ne eksāmena, ne bonusa\n",
      "Nebija ne eksāmena, ne bonusa\n",
      "Nebija ne eksāmena, ne bonusa\n",
      "Nebija ne eksāmena, ne bonusa\n",
      "Nebija ne eksāmena, ne bonusa\n",
      "Nebija ne eksāmena, ne bonusa\n",
      "Nebija ne eksāmena, ne bonusa\n",
      "Nebija ne eksāmena, ne bonusa\n",
      "Nebija ne eksāmena, ne bonusa\n",
      "Nebija ne eksāmena, ne bonusa\n",
      "Nebija ne eksāmena, ne bonusa\n",
      "Nebija ne eksāmena, ne bonusa\n",
      "Nebija ne eksāmena, ne bonusa\n",
      "Nebija ne eksāmena, ne bonusa\n",
      "Nebija ne eksāmena, ne bonusa\n",
      "Nebija ne eksāmena, ne bonusa\n",
      "Nebija ne eksāmena, ne bonusa\n",
      "Nebija ne eksāmena, ne bonusa\n",
      "Nebija ne eksāmena, ne bonusa\n",
      "Nebija ne eksāmena, ne bonusa\n",
      "Nebija ne eksāmena, ne bonusa\n",
      "Nebija ne eksāmena, ne bonusa\n",
      "Nebija ne eksāmena, ne bonusa\n",
      "Nebija ne eksāmena, ne bonusa\n",
      "Nebija ne eksāmena, ne bonusa\n",
      "Nebija ne eksāmena, ne bonusa\n",
      "Nebija ne eksāmena, ne bonusa\n",
      "Nebija ne eksāmena, ne bonusa\n",
      "Nebija ne eksāmena, ne bonusa\n",
      "Nebija ne eksāmena, ne bonusa\n",
      "Nebija ne eksāmena, ne bonusa\n",
      "Nebija ne eksāmena, ne bonusa\n",
      "Nebija ne eksāmena, ne bonusa\n",
      "Nebija ne eksāmena, ne bonusa\n",
      "Nebija ne eksāmena, ne bonusa\n",
      "Nebija ne eksāmena, ne bonusa\n",
      "Nebija ne eksāmena, ne bonusa\n",
      "Nebija ne eksāmena, ne bonusa\n",
      "Nebija ne eksāmena, ne bonusa\n",
      "Nebija ne eksāmena, ne bonusa\n",
      "Nebija ne eksāmena, ne bonusa\n",
      "Nebija ne eksāmena, ne bonusa\n",
      "Nebija ne eksāmena, ne bonusa\n",
      "Nebija ne eksāmena, ne bonusa\n",
      "Nebija ne eksāmena, ne bonusa\n",
      "Nebija ne eksāmena, ne bonusa\n"
     ]
    }
   ],
   "source": [
    "# Izveidot sarakstu ar derīgiem ierakstiem\n",
    "\n",
    "import csv\n",
    "import io\n",
    "import pickle\n",
    "\n",
    "file_name = \"varbutibu_teorija.csv\"\n",
    "clean_dataset = []\n",
    "\n",
    "with open(file_name, mode=\"r\") as csv_file:\n",
    "    csv_data = csv.reader(csv_file, delimiter=\";\")\n",
    "    for idx, row in enumerate(csv_data):\n",
    "        if idx == 0:\n",
    "            continue\n",
    "        columns = []\n",
    "        try:\n",
    "            columns.append(int(row[1]))\n",
    "            columns.append(int(row[2]))\n",
    "            try:\n",
    "                columns.append(int(row[6]))\n",
    "            except:\n",
    "                # Nebija eksāmena atzīmes, ņemam bonusu, ja bija\n",
    "                try:\n",
    "                    columns.append(int(row[4]))\n",
    "                except:\n",
    "                    print(\"Nebija ne eksāmena, ne bonusa\".format(idx, row))\n",
    "                    columns.append(0)\n",
    "        except:\n",
    "            print(\"Invalid data @ {}: {}\".format(idx, row))\n",
    "            continue\n",
    "\n",
    "        clean_dataset.append(columns)"
   ]
  },
  {
   "cell_type": "code",
   "execution_count": 12,
   "outputs": [],
   "source": [
    "# Saglabāt datus marinētā gurķītī\n",
    "\n",
    "pickle.dump(clean_dataset, open(\"dataset.pickle\", \"wb\"))"
   ],
   "metadata": {
    "collapsed": false,
    "pycharm": {
     "name": "#%%\n"
    }
   }
  }
 ],
 "metadata": {
  "kernelspec": {
   "display_name": "Python 3",
   "language": "python",
   "name": "python3"
  },
  "language_info": {
   "codemirror_mode": {
    "name": "ipython",
    "version": 2
   },
   "file_extension": ".py",
   "mimetype": "text/x-python",
   "name": "python",
   "nbconvert_exporter": "python",
   "pygments_lexer": "ipython2",
   "version": "2.7.6"
  }
 },
 "nbformat": 4,
 "nbformat_minor": 0
}